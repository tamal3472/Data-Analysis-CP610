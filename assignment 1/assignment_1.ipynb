{
 "cells": [
  {
   "cell_type": "markdown",
   "id": "d1b511a6-1dca-45e1-a993-d2a5b1449dfa",
   "metadata": {},
   "source": [
    "# Assignment 1\n",
    "\n",
    "**Student Name:** Tamal Chakroborty <br/>\n",
    "**Student ID:** 245830440"
   ]
  },
  {
   "cell_type": "markdown",
   "id": "7ec1c7bd-32a1-44ed-918c-2c9de5b01f99",
   "metadata": {},
   "source": [
    "## Part 1: Data Understanding"
   ]
  },
  {
   "cell_type": "code",
   "execution_count": 338,
   "id": "fed2cdb1-e93f-4b73-ace8-e4f85ef00ff3",
   "metadata": {},
   "outputs": [
    {
     "data": {
      "text/html": [
       "<div>\n",
       "<style scoped>\n",
       "    .dataframe tbody tr th:only-of-type {\n",
       "        vertical-align: middle;\n",
       "    }\n",
       "\n",
       "    .dataframe tbody tr th {\n",
       "        vertical-align: top;\n",
       "    }\n",
       "\n",
       "    .dataframe thead th {\n",
       "        text-align: right;\n",
       "    }\n",
       "</style>\n",
       "<table border=\"1\" class=\"dataframe\">\n",
       "  <thead>\n",
       "    <tr style=\"text-align: right;\">\n",
       "      <th></th>\n",
       "      <th>A1</th>\n",
       "      <th>A2</th>\n",
       "      <th>A3</th>\n",
       "      <th>A4</th>\n",
       "      <th>A5</th>\n",
       "      <th>A6</th>\n",
       "      <th>A7</th>\n",
       "      <th>A8</th>\n",
       "      <th>A9</th>\n",
       "      <th>A10</th>\n",
       "      <th>A11</th>\n",
       "      <th>A12</th>\n",
       "      <th>A13</th>\n",
       "      <th>A14</th>\n",
       "      <th>A15</th>\n",
       "      <th>A16</th>\n",
       "    </tr>\n",
       "  </thead>\n",
       "  <tbody>\n",
       "    <tr>\n",
       "      <th>217</th>\n",
       "      <td>b</td>\n",
       "      <td>55.92</td>\n",
       "      <td>11.500</td>\n",
       "      <td>u</td>\n",
       "      <td>g</td>\n",
       "      <td>ff</td>\n",
       "      <td>ff</td>\n",
       "      <td>5.000</td>\n",
       "      <td>t</td>\n",
       "      <td>t</td>\n",
       "      <td>5</td>\n",
       "      <td>f</td>\n",
       "      <td>g</td>\n",
       "      <td>00000</td>\n",
       "      <td>8851</td>\n",
       "      <td>+</td>\n",
       "    </tr>\n",
       "    <tr>\n",
       "      <th>116</th>\n",
       "      <td>b</td>\n",
       "      <td>37.75</td>\n",
       "      <td>7.000</td>\n",
       "      <td>u</td>\n",
       "      <td>g</td>\n",
       "      <td>q</td>\n",
       "      <td>h</td>\n",
       "      <td>11.500</td>\n",
       "      <td>t</td>\n",
       "      <td>t</td>\n",
       "      <td>7</td>\n",
       "      <td>t</td>\n",
       "      <td>g</td>\n",
       "      <td>00300</td>\n",
       "      <td>5</td>\n",
       "      <td>-</td>\n",
       "    </tr>\n",
       "    <tr>\n",
       "      <th>10</th>\n",
       "      <td>b</td>\n",
       "      <td>22.08</td>\n",
       "      <td>0.830</td>\n",
       "      <td>u</td>\n",
       "      <td>g</td>\n",
       "      <td>c</td>\n",
       "      <td>h</td>\n",
       "      <td>2.165</td>\n",
       "      <td>f</td>\n",
       "      <td>f</td>\n",
       "      <td>0</td>\n",
       "      <td>t</td>\n",
       "      <td>g</td>\n",
       "      <td>00128</td>\n",
       "      <td>0</td>\n",
       "      <td>+</td>\n",
       "    </tr>\n",
       "    <tr>\n",
       "      <th>36</th>\n",
       "      <td>b</td>\n",
       "      <td>27.25</td>\n",
       "      <td>1.585</td>\n",
       "      <td>u</td>\n",
       "      <td>g</td>\n",
       "      <td>cc</td>\n",
       "      <td>h</td>\n",
       "      <td>1.835</td>\n",
       "      <td>t</td>\n",
       "      <td>t</td>\n",
       "      <td>12</td>\n",
       "      <td>t</td>\n",
       "      <td>g</td>\n",
       "      <td>00583</td>\n",
       "      <td>713</td>\n",
       "      <td>+</td>\n",
       "    </tr>\n",
       "    <tr>\n",
       "      <th>402</th>\n",
       "      <td>a</td>\n",
       "      <td>51.92</td>\n",
       "      <td>6.500</td>\n",
       "      <td>u</td>\n",
       "      <td>g</td>\n",
       "      <td>i</td>\n",
       "      <td>bb</td>\n",
       "      <td>3.085</td>\n",
       "      <td>f</td>\n",
       "      <td>f</td>\n",
       "      <td>0</td>\n",
       "      <td>t</td>\n",
       "      <td>g</td>\n",
       "      <td>00073</td>\n",
       "      <td>0</td>\n",
       "      <td>-</td>\n",
       "    </tr>\n",
       "    <tr>\n",
       "      <th>210</th>\n",
       "      <td>b</td>\n",
       "      <td>39.33</td>\n",
       "      <td>5.875</td>\n",
       "      <td>u</td>\n",
       "      <td>g</td>\n",
       "      <td>cc</td>\n",
       "      <td>h</td>\n",
       "      <td>10.000</td>\n",
       "      <td>t</td>\n",
       "      <td>t</td>\n",
       "      <td>14</td>\n",
       "      <td>t</td>\n",
       "      <td>g</td>\n",
       "      <td>00399</td>\n",
       "      <td>0</td>\n",
       "      <td>+</td>\n",
       "    </tr>\n",
       "    <tr>\n",
       "      <th>302</th>\n",
       "      <td>b</td>\n",
       "      <td>23.42</td>\n",
       "      <td>1.000</td>\n",
       "      <td>u</td>\n",
       "      <td>g</td>\n",
       "      <td>c</td>\n",
       "      <td>v</td>\n",
       "      <td>0.500</td>\n",
       "      <td>f</td>\n",
       "      <td>f</td>\n",
       "      <td>0</td>\n",
       "      <td>t</td>\n",
       "      <td>s</td>\n",
       "      <td>00280</td>\n",
       "      <td>0</td>\n",
       "      <td>-</td>\n",
       "    </tr>\n",
       "    <tr>\n",
       "      <th>558</th>\n",
       "      <td>b</td>\n",
       "      <td>51.42</td>\n",
       "      <td>0.040</td>\n",
       "      <td>u</td>\n",
       "      <td>g</td>\n",
       "      <td>x</td>\n",
       "      <td>h</td>\n",
       "      <td>0.040</td>\n",
       "      <td>t</td>\n",
       "      <td>f</td>\n",
       "      <td>0</td>\n",
       "      <td>f</td>\n",
       "      <td>g</td>\n",
       "      <td>00000</td>\n",
       "      <td>3000</td>\n",
       "      <td>+</td>\n",
       "    </tr>\n",
       "    <tr>\n",
       "      <th>630</th>\n",
       "      <td>a</td>\n",
       "      <td>22.92</td>\n",
       "      <td>1.250</td>\n",
       "      <td>u</td>\n",
       "      <td>g</td>\n",
       "      <td>q</td>\n",
       "      <td>v</td>\n",
       "      <td>0.250</td>\n",
       "      <td>f</td>\n",
       "      <td>f</td>\n",
       "      <td>0</td>\n",
       "      <td>t</td>\n",
       "      <td>g</td>\n",
       "      <td>00120</td>\n",
       "      <td>809</td>\n",
       "      <td>-</td>\n",
       "    </tr>\n",
       "    <tr>\n",
       "      <th>281</th>\n",
       "      <td>b</td>\n",
       "      <td>23.92</td>\n",
       "      <td>0.585</td>\n",
       "      <td>y</td>\n",
       "      <td>p</td>\n",
       "      <td>cc</td>\n",
       "      <td>h</td>\n",
       "      <td>0.125</td>\n",
       "      <td>f</td>\n",
       "      <td>f</td>\n",
       "      <td>0</td>\n",
       "      <td>f</td>\n",
       "      <td>g</td>\n",
       "      <td>00240</td>\n",
       "      <td>1</td>\n",
       "      <td>-</td>\n",
       "    </tr>\n",
       "  </tbody>\n",
       "</table>\n",
       "</div>"
      ],
      "text/plain": [
       "    A1     A2      A3 A4 A5  A6  A7      A8 A9 A10  A11 A12 A13    A14   A15  \\\n",
       "217  b  55.92  11.500  u  g  ff  ff   5.000  t   t    5   f   g  00000  8851   \n",
       "116  b  37.75   7.000  u  g   q   h  11.500  t   t    7   t   g  00300     5   \n",
       "10   b  22.08   0.830  u  g   c   h   2.165  f   f    0   t   g  00128     0   \n",
       "36   b  27.25   1.585  u  g  cc   h   1.835  t   t   12   t   g  00583   713   \n",
       "402  a  51.92   6.500  u  g   i  bb   3.085  f   f    0   t   g  00073     0   \n",
       "210  b  39.33   5.875  u  g  cc   h  10.000  t   t   14   t   g  00399     0   \n",
       "302  b  23.42   1.000  u  g   c   v   0.500  f   f    0   t   s  00280     0   \n",
       "558  b  51.42   0.040  u  g   x   h   0.040  t   f    0   f   g  00000  3000   \n",
       "630  a  22.92   1.250  u  g   q   v   0.250  f   f    0   t   g  00120   809   \n",
       "281  b  23.92   0.585  y  p  cc   h   0.125  f   f    0   f   g  00240     1   \n",
       "\n",
       "    A16  \n",
       "217   +  \n",
       "116   -  \n",
       "10    +  \n",
       "36    +  \n",
       "402   -  \n",
       "210   +  \n",
       "302   -  \n",
       "558   +  \n",
       "630   -  \n",
       "281   -  "
      ]
     },
     "execution_count": 338,
     "metadata": {},
     "output_type": "execute_result"
    }
   ],
   "source": [
    "import pandas as pd\n",
    "\n",
    "# The given data file\n",
    "file_path = './crx.data'\n",
    "\n",
    "# As per the crx.names file, there are 16 columns from A1 to A16\n",
    "columns = ['A' + str(i) for i in range(1, 17)]\n",
    "\n",
    "df = pd.read_csv(file_path, names=columns)\n",
    "\n",
    "df.sample(10)"
   ]
  },
  {
   "cell_type": "markdown",
   "id": "890138de-fd74-4009-8dfa-a292afa1b27a",
   "metadata": {},
   "source": [
    "### Attribute type identification and segregation\n",
    "\n",
    "As per the crx.names, the 'A2', 'A3', 'A8', 'A11', 'A14', and 'A15' columns are continuous. <br/>\n",
    "s\n",
    "Now, if we consider the class attribute column 'A16' as nominal(by generic definition it is) then excluding 6 continuous data columns rest are the nominal attribute columns."
   ]
  },
  {
   "cell_type": "code",
   "execution_count": 340,
   "id": "83893afc-8c1c-4755-9fc5-692e41fef16f",
   "metadata": {},
   "outputs": [
    {
     "name": "stdout",
     "output_type": "stream",
     "text": [
      "Nominal Attribute Columns: ['A1', 'A4', 'A5', 'A6', 'A7', 'A9', 'A10', 'A12', 'A13', 'A16']\n"
     ]
    }
   ],
   "source": [
    "continuous_attribute_columns = ['A2', 'A3', 'A8', 'A11', 'A14', 'A15']\n",
    "nominal_attribute_columns = [column for column in columns if column not in continuous_attribute_columns]\n",
    "\n",
    "print(\"Nominal Attribute Columns:\", nominal_attribute_columns)"
   ]
  },
  {
   "cell_type": "markdown",
   "id": "5b34d6be-4165-4f10-bf7b-709d34e5eb63",
   "metadata": {},
   "source": [
    "### Frequency of nominal attributes for each possible value"
   ]
  },
  {
   "cell_type": "code",
   "execution_count": 342,
   "id": "41835b51-3ca2-49aa-bbd8-ea97d35a95b2",
   "metadata": {},
   "outputs": [
    {
     "name": "stdout",
     "output_type": "stream",
     "text": [
      "Frequency of values in nominal attribute column - A1:\n",
      "A1\n",
      "b    468\n",
      "a    210\n",
      "?     12\n",
      "Name: count, dtype: int64\n",
      "\n",
      "Frequency of values in nominal attribute column - A4:\n",
      "A4\n",
      "u    519\n",
      "y    163\n",
      "?      6\n",
      "l      2\n",
      "Name: count, dtype: int64\n",
      "\n",
      "Frequency of values in nominal attribute column - A5:\n",
      "A5\n",
      "g     519\n",
      "p     163\n",
      "?       6\n",
      "gg      2\n",
      "Name: count, dtype: int64\n",
      "\n",
      "Frequency of values in nominal attribute column - A6:\n",
      "A6\n",
      "c     137\n",
      "q      78\n",
      "w      64\n",
      "i      59\n",
      "aa     54\n",
      "ff     53\n",
      "k      51\n",
      "cc     41\n",
      "m      38\n",
      "x      38\n",
      "d      30\n",
      "e      25\n",
      "j      10\n",
      "?       9\n",
      "r       3\n",
      "Name: count, dtype: int64\n",
      "\n",
      "Frequency of values in nominal attribute column - A7:\n",
      "A7\n",
      "v     399\n",
      "h     138\n",
      "bb     59\n",
      "ff     57\n",
      "?       9\n",
      "j       8\n",
      "z       8\n",
      "dd      6\n",
      "n       4\n",
      "o       2\n",
      "Name: count, dtype: int64\n",
      "\n",
      "Frequency of values in nominal attribute column - A9:\n",
      "A9\n",
      "t    361\n",
      "f    329\n",
      "Name: count, dtype: int64\n",
      "\n",
      "Frequency of values in nominal attribute column - A10:\n",
      "A10\n",
      "f    395\n",
      "t    295\n",
      "Name: count, dtype: int64\n",
      "\n",
      "Frequency of values in nominal attribute column - A12:\n",
      "A12\n",
      "f    374\n",
      "t    316\n",
      "Name: count, dtype: int64\n",
      "\n",
      "Frequency of values in nominal attribute column - A13:\n",
      "A13\n",
      "g    625\n",
      "s     57\n",
      "p      8\n",
      "Name: count, dtype: int64\n",
      "\n",
      "Frequency of values in nominal attribute column - A16:\n",
      "A16\n",
      "-    383\n",
      "+    307\n",
      "Name: count, dtype: int64\n",
      "\n"
     ]
    }
   ],
   "source": [
    "for column in nominal_attribute_columns:\n",
    "    frequency_counts = df[column].value_counts()  # Get the frequency counts\n",
    "    print(f\"Frequency of values in nominal attribute column - {column}:\\n{frequency_counts}\\n\") "
   ]
  },
  {
   "cell_type": "markdown",
   "id": "f4ace972-3de9-4033-88cb-63a6400ab4fe",
   "metadata": {},
   "source": [
    "### Minimum, maximum, median, mean, standard deviation, and quantiles (25%, 50%, 75%) for continuous attributes\n",
    "\n",
    "As per the given crx.names file, among all the continuous attributes columns A2 & A4 have the missing value. By looking at the data it appears the missing values are not in empty numeric format(i.e. NaN). We have to convert the missing values into NaN format to calculate the statistics."
   ]
  },
  {
   "cell_type": "code",
   "execution_count": 345,
   "id": "e58c892b-621e-4ba7-a458-e55586809e58",
   "metadata": {},
   "outputs": [],
   "source": [
    "df['A2'] = pd.to_numeric(df['A2'], errors='coerce')\n",
    "df['A14'] = pd.to_numeric(df['A14'], errors='coerce')"
   ]
  },
  {
   "cell_type": "code",
   "execution_count": 347,
   "id": "27c50c46-a152-4e22-bc69-c2e0a2b7fb1e",
   "metadata": {},
   "outputs": [
    {
     "name": "stdout",
     "output_type": "stream",
     "text": [
      "Minimum values of continuous attributes:\n",
      " A2     13.75\n",
      "A3      0.00\n",
      "A8      0.00\n",
      "A11     0.00\n",
      "A14     0.00\n",
      "A15     0.00\n",
      "dtype: float64\n",
      "\n",
      "\n",
      "Maximum values of continuous attributes:\n",
      " A2         80.25\n",
      "A3         28.00\n",
      "A8         28.50\n",
      "A11        67.00\n",
      "A14      2000.00\n",
      "A15    100000.00\n",
      "dtype: float64\n",
      "\n",
      "\n",
      "Median values of continuous attributes:\n",
      " A2      28.46\n",
      "A3       2.75\n",
      "A8       1.00\n",
      "A11      0.00\n",
      "A14    160.00\n",
      "A15      5.00\n",
      "dtype: float64\n",
      "\n",
      "\n",
      "Mean values of continuous attributes:\n",
      " A2       31.568171\n",
      "A3        4.758725\n",
      "A8        2.223406\n",
      "A11       2.400000\n",
      "A14     184.014771\n",
      "A15    1017.385507\n",
      "dtype: float64\n",
      "\n",
      "\n",
      "Standard deviation of continuous attributes:\n",
      " A2       11.957862\n",
      "A3        4.978163\n",
      "A8        3.346513\n",
      "A11       4.862940\n",
      "A14     173.806768\n",
      "A15    5210.102598\n",
      "dtype: float64\n",
      "\n",
      "\n",
      "Quantiles (25%, 50%, 75%):\n",
      "            A2      A3     A8  A11    A14    A15\n",
      "0.25  22.6025  1.0000  0.165  0.0   75.0    0.0\n",
      "0.50  28.4600  2.7500  1.000  0.0  160.0    5.0\n",
      "0.75  38.2300  7.2075  2.625  3.0  276.0  395.5\n"
     ]
    }
   ],
   "source": [
    "continuous_attributes_df = df[continuous_attribute_columns]\n",
    "\n",
    "min_values = continuous_attributes_df.min()\n",
    "max_values = continuous_attributes_df.max()\n",
    "median_values = continuous_attributes_df.median()\n",
    "mean_values = continuous_attributes_df.mean()\n",
    "std_values = continuous_attributes_df.std()\n",
    "quantiles = continuous_attributes_df.quantile([0.25, 0.5, 0.75])\n",
    "\n",
    "print('Minimum values of continuous attributes:\\n', min_values)\n",
    "print(\"\\n\\nMaximum values of continuous attributes:\\n\", max_values)\n",
    "print(\"\\n\\nMedian values of continuous attributes:\\n\", median_values)\n",
    "print(\"\\n\\nMean values of continuous attributes:\\n\", mean_values)\n",
    "print(\"\\n\\nStandard deviation of continuous attributes:\\n\", std_values)\n",
    "print(\"\\n\\nQuantiles (25%, 50%, 75%):\\n\", quantiles)"
   ]
  },
  {
   "cell_type": "markdown",
   "id": "96205601-2ad7-4bbb-ad5c-5cdcfbb71805",
   "metadata": {},
   "source": [
    "## Part 2: Data Processing"
   ]
  },
  {
   "cell_type": "markdown",
   "id": "4231b246-313e-453f-837d-f911c5dbf822",
   "metadata": {},
   "source": [
    "### Identify and report the missing values"
   ]
  },
  {
   "cell_type": "code",
   "execution_count": 349,
   "id": "751a8bd5-ca2d-4c7c-8dfb-dd1d39a467ff",
   "metadata": {},
   "outputs": [
    {
     "name": "stdout",
     "output_type": "stream",
     "text": [
      "Missing values in each attributes: \n",
      " A1     12\n",
      "A2     12\n",
      "A3      0\n",
      "A4      6\n",
      "A5      6\n",
      "A6      9\n",
      "A7      9\n",
      "A8      0\n",
      "A9      0\n",
      "A10     0\n",
      "A11     0\n",
      "A12     0\n",
      "A13     0\n",
      "A14    13\n",
      "A15     0\n",
      "A16     0\n",
      "dtype: int64\n"
     ]
    }
   ],
   "source": [
    "missing_values_count = df.apply(lambda x: x.isna().sum() + (x == '?').sum()) # As we have replaced ? with NaN during the Continuous attributes statistics, x.isna().sum() is required\n",
    "print('Missing values in each attributes: \\n', missing_values_count)"
   ]
  },
  {
   "cell_type": "markdown",
   "id": "04a2c43f-c624-4a73-8f22-4d77f632c7ae",
   "metadata": {},
   "source": [
    "### For nominal attributes, replace missing values with the mode."
   ]
  },
  {
   "cell_type": "code",
   "execution_count": 351,
   "id": "0d2aa95a-8b28-4e23-9107-ccba7dd123c3",
   "metadata": {},
   "outputs": [
    {
     "name": "stdout",
     "output_type": "stream",
     "text": [
      "Missing values in each nominal attributes:\n",
      " A1     0\n",
      "A4     0\n",
      "A5     0\n",
      "A6     0\n",
      "A7     0\n",
      "A9     0\n",
      "A10    0\n",
      "A12    0\n",
      "A13    0\n",
      "A16    0\n",
      "dtype: int64\n"
     ]
    }
   ],
   "source": [
    "for column in nominal_attribute_columns:\n",
    "    mode_value = df[column].mode()[0]\n",
    "    df[column] = df[column].replace('?', mode_value)\n",
    "\n",
    "missing_values_count = df[nominal_attribute_columns].apply(lambda x: (x == '?').sum())\n",
    "print('Missing values in each nominal attributes:\\n', missing_values_count)"
   ]
  },
  {
   "cell_type": "markdown",
   "id": "94f46d4e-0ee1-46ba-be93-930123a8b1e1",
   "metadata": {},
   "source": [
    "### For continuous attributes, replace missing values with the mean."
   ]
  },
  {
   "cell_type": "code",
   "execution_count": 353,
   "id": "aee04153-24c7-478b-a428-f5187cc53f2f",
   "metadata": {},
   "outputs": [
    {
     "name": "stdout",
     "output_type": "stream",
     "text": [
      "Missing values in each continous attributes:\n",
      " A2     0\n",
      "A3     0\n",
      "A8     0\n",
      "A11    0\n",
      "A14    0\n",
      "A15    0\n",
      "dtype: int64\n"
     ]
    }
   ],
   "source": [
    "for column in continuous_attribute_columns:\n",
    "    mean_value = df[column].mean()\n",
    "    df[column] = df[column].fillna(mean_value)\n",
    "\n",
    "missing_values_count = df[continuous_attribute_columns].apply(lambda x: x.isna().sum())\n",
    "print('Missing values in each continous attributes:\\n', missing_values_count)"
   ]
  },
  {
   "cell_type": "markdown",
   "id": "b6aa5650-c7ea-4295-8282-ce357b64c746",
   "metadata": {},
   "source": [
    "## Part 3: Data Visualization"
   ]
  },
  {
   "cell_type": "markdown",
   "id": "0f3caf93-448f-4001-8920-113492bbcbd5",
   "metadata": {},
   "source": [
    "### side-by-side boxplots for continuous attributes A2, A3, A8, A11"
   ]
  },
  {
   "cell_type": "code",
   "execution_count": 279,
   "id": "8d7d5948-ae45-4a60-94bb-97ca1c6aaba8",
   "metadata": {},
   "outputs": [
    {
     "data": {
      "image/png": "[encoded data removed]",
      "text/plain": [
       "<Figure size 1000x1000 with 1 Axes>"
      ]
     },
     "metadata": {},
     "output_type": "display_data"
    }
   ],
   "source": [
    "import matplotlib.pyplot as plt\n",
    "import seaborn as sns\n",
    "\n",
    "plt.figure(figsize=(10, 10))\n",
    "sns.boxplot(data=df[['A2', 'A3', 'A8', 'A11']])\n",
    "plt.title('Side-by-Side Boxplots for Continuous Attributes A2, A3, A8, A11')\n",
    "plt.show()"
   ]
  },
  {
   "cell_type": "markdown",
   "id": "ab2c13b6-92a2-4f99-8200-121e5e3386ef",
   "metadata": {},
   "source": [
    "### Bar chart for nominal attribute A4."
   ]
  },
  {
   "cell_type": "code",
   "execution_count": 323,
   "id": "18da52c7-ba6e-4c20-8f07-3ecb161c00d6",
   "metadata": {},
   "outputs": [
    {
     "data": {
      "image/png": "[encoded data removed]",
      "text/plain": [
       "<Figure size 600x600 with 1 Axes>"
      ]
     },
     "metadata": {},
     "output_type": "display_data"
    }
   ],
   "source": [
    "plt.figure(figsize=(6, 6))\n",
    "df['A4'].value_counts().plot(kind='bar')\n",
    "plt.title('Bar Chart for Nominal Attribute A4')\n",
    "plt.xlabel('A4')\n",
    "plt.ylabel('Frequency')\n",
    "plt.show()"
   ]
  },
  {
   "cell_type": "markdown",
   "id": "35ae77bc-e8c0-4b2f-a5f1-b545949e6214",
   "metadata": {},
   "source": [
    "### Histogram for continuous attribute A15.\n",
    "\n",
    "From the statistical data of column A15, it seems the min-max difference and deviations are huge. From the initial observation, we can use a large number of bins just to understand the distribution of the data."
   ]
  },
  {
   "cell_type": "code",
   "execution_count": 408,
   "id": "81f3e885-3fee-4781-bd06-02623a27bc1b",
   "metadata": {},
   "outputs": [
    {
     "data": {
      "image/png": "[encoded data removed]",
      "text/plain": [
       "<Figure size 600x600 with 1 Axes>"
      ]
     },
     "metadata": {},
     "output_type": "display_data"
    }
   ],
   "source": [
    "plt.figure(figsize=(6, 6))\n",
    "plt.hist(df['A15'], bins=100, edgecolor='black')\n",
    "plt.xlabel('Value')\n",
    "plt.ylabel('Frequency')\n",
    "plt.title('Histogram of Continuous Attribute A15')\n",
    "plt.show()"
   ]
  },
  {
   "cell_type": "markdown",
   "id": "313f47df-cfc9-4701-b732-6f1930264683",
   "metadata": {},
   "source": [
    "### Observation from the histogram of A15\n",
    "\n",
    "From the initial statistical data observation, it seems even using a large number of bins does not give proper understanding. There are more rows with 0 and near 0 compared to the max value of 100000.00. Additionally, it seems the data are positively skewed."
   ]
  },
  {
   "cell_type": "markdown",
   "id": "e850b845-5e5f-439d-b644-8214ebaec2a1",
   "metadata": {},
   "source": [
    "### How can we better visualize A15 with a histogram plot?\n",
    "\n",
    "Since the range is long and data are sparse, adding more bins won't affect anything. Rather, we can apply **Log Transformation** on the data to reduce and smooth out the range. As the range will be smaller, we can also use smaller bins."
   ]
  },
  {
   "cell_type": "code",
   "execution_count": 445,
   "id": "f960a6f9-6ba3-46f0-bb88-9d2879cb32a3",
   "metadata": {},
   "outputs": [
    {
     "data": {
      "image/png": "[encoded data removed]",
      "text/plain": [
       "<Figure size 640x480 with 1 Axes>"
      ]
     },
     "metadata": {},
     "output_type": "display_data"
    }
   ],
   "source": [
    "# LOG TRANSFORMATION\n",
    "log_data = np.log1p(df['A15'])  # np.log1p(x) is equivalent to log(1 + x)\n",
    "                \n",
    "# Plot histogram of log-transformed data\n",
    "plt.hist(log_data, bins=10, edgecolor='black')\n",
    "plt.xlabel('Log-Transformed value')\n",
    "plt.ylabel('Frequency')\n",
    "plt.title('Histogram of A15 with Log Transformation')\n",
    "plt.show()"
   ]
  },
  {
   "cell_type": "markdown",
   "id": "8bfd621e-b464-4261-a51f-1a33dbd5ca68",
   "metadata": {},
   "source": [
    "_**For futher zoom-in visualisation**_ - The frequency count in log scale should give us better visualisation, as the range of frequency is also large."
   ]
  },
  {
   "cell_type": "code",
   "execution_count": 457,
   "id": "9cc88ded-04b6-4321-a14d-15d0bd97877f",
   "metadata": {},
   "outputs": [
    {
     "data": {
      "image/png": "[encoded data removed]",
      "text/plain": [
       "<Figure size 640x480 with 1 Axes>"
      ]
     },
     "metadata": {},
     "output_type": "display_data"
    }
   ],
   "source": [
    "# LOG TRANSFORMATION\n",
    "log_data = np.log1p(df['A15'])\n",
    "                \n",
    "# Plot histogram of log-transformed data\n",
    "plt.hist(log_data, bins=10, edgecolor='black')\n",
    "plt.xlabel('Log-Transformed value')\n",
    "plt.yscale('log')\n",
    "plt.ylabel('Frequency in logarithmic scale')\n",
    "plt.title('Histogram of A15 with Log Transformation')\n",
    "plt.show()"
   ]
  }
 ],
 "metadata": {
  "kernelspec": {
   "display_name": "Python 3 (ipykernel)",
   "language": "python",
   "name": "python3"
  },
  "language_info": {
   "codemirror_mode": {
    "name": "ipython",
    "version": 3
   },
   "file_extension": ".py",
   "mimetype": "text/x-python",
   "name": "python",
   "nbconvert_exporter": "python",
   "pygments_lexer": "ipython3",
   "version": "3.12.4"
  }
 },
 "nbformat": 4,
 "nbformat_minor": 5
}
