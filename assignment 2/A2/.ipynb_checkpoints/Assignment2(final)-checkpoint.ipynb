{
 "cells": [
  {
   "cell_type": "markdown",
   "id": "a39bba82",
   "metadata": {},
   "source": [
    "## <center> Assignment 2 </center>\n",
    "\n",
    "#### Name:Kaniz Fatema\n",
    "#### Student ID: 245832180\n",
    "\n",
    "You are provided with a training dataset and a testing dataset for a binary classification problem with labels {0,1}. The last column of the training set is the label, while the test dataset contains only attributes.\n",
    "\n",
    "Train an effective classifier using the training dataset. You are free to choose your data processing approach, the classifier type, and tune the classifier's parameters as needed. You can use the sklearn package in Python for model implementation. \n",
    "\n",
    "Make predictions on the testing dataset and generate a file containing only one column of labels (predicted 0 or 1), in the same order as the testing dataset.\n",
    "\n",
    "Please submit your implementation code and the predicted output file as two separate files (not in a zip) in the names \"A2.ipynb\" and \"prediction.txt\". Your assignment will be eTestinguated based on the performance of your model, specifically its F1-score, among other criteria."
   ]
  },
  {
   "cell_type": "code",
   "execution_count": 26,
   "id": "1ca3ed0e-ddf8-4318-b51f-70fd54258d2b",
   "metadata": {},
   "outputs": [],
   "source": [
    "# Import all the essential libraries\n",
    "import pandas as pd\n",
    "import seaborn as sns\n",
    "from matplotlib import pyplot as plt\n",
    "from sklearn.model_selection import train_test_split\n",
    "from sklearn.preprocessing import StandardScaler\n",
    "from sklearn.metrics import accuracy_score, matthews_corrcoef, f1_score\n"
   ]
  },
  {
   "cell_type": "code",
   "execution_count": 28,
   "id": "f1672978-656d-41d3-8264-305032153952",
   "metadata": {},
   "outputs": [],
   "source": [
    "# Load datasets\n",
    "train_data = pd.read_csv('A2_data/train.csv',sep=',',index_col=0) \n",
    "# test_data = pd.read_csv(\"test_attribute.csv\")"
   ]
  },
  {
   "cell_type": "code",
   "execution_count": 30,
   "id": "473ceef0-426c-4656-a1d0-3d9427ddf58e",
   "metadata": {},
   "outputs": [],
   "source": [
    "# Separate features and labels\n",
    "x = train_data.iloc[:, :-1]\n",
    "y = train_data.iloc[:, -1]\n"
   ]
  },
  {
   "cell_type": "code",
   "execution_count": 34,
   "id": "467c57b0-57ab-4046-ac3d-dd2ea98130b4",
   "metadata": {},
   "outputs": [
    {
     "ename": "NameError",
     "evalue": "name 'y_train' is not defined",
     "output_type": "error",
     "traceback": [
      "\u001b[0;31m---------------------------------------------------------------------------\u001b[0m",
      "\u001b[0;31mNameError\u001b[0m                                 Traceback (most recent call last)",
      "Cell \u001b[0;32mIn[34], line 2\u001b[0m\n\u001b[1;32m      1\u001b[0m \u001b[38;5;66;03m# Count number of 0s and 1s in training and testing labels\u001b[39;00m\n\u001b[0;32m----> 2\u001b[0m train_label_counts \u001b[38;5;241m=\u001b[39m y_train\u001b[38;5;241m.\u001b[39mvalue_counts()\n\u001b[1;32m      3\u001b[0m test_label_counts \u001b[38;5;241m=\u001b[39m y_test\u001b[38;5;241m.\u001b[39mvalue_counts()\n\u001b[1;32m      5\u001b[0m \u001b[38;5;28mprint\u001b[39m(\u001b[38;5;124m\"\u001b[39m\u001b[38;5;124mCounts of labels in the Training set:\u001b[39m\u001b[38;5;124m\"\u001b[39m)\n",
      "\u001b[0;31mNameError\u001b[0m: name 'y_train' is not defined"
     ]
    }
   ],
   "source": [
    "# # Count number of 0s and 1s in training and testing labels\n",
    "# train_label_counts = y_train.value_counts()\n",
    "# test_label_counts = y_test.value_counts()\n",
    "\n",
    "# print(\"Counts of labels in the Training set:\")\n",
    "# print(train_label_counts)\n",
    "\n",
    "# print(\"Counts of labels in the Testing set:\")\n",
    "# print(test_label_counts)"
   ]
  },
  {
   "cell_type": "code",
   "execution_count": 36,
   "id": "34febc55-15fc-4aa9-9e0c-8b91c6b7f497",
   "metadata": {},
   "outputs": [
    {
     "name": "stdout",
     "output_type": "stream",
     "text": [
      "      0     1     2     3    4    5     6     7\n",
      "0  0.81  0.85  0.47  0.37  0.5  0.0  0.56  0.22\n",
      "1  0.70  0.58  0.53  0.39  0.5  0.0  0.59  0.22\n",
      "2  0.72  0.73  0.41  0.28  0.5  0.0  0.44  0.22\n",
      "3  0.78  0.69  0.44  0.26  0.5  0.0  0.54  0.22\n",
      "4  0.74  0.82  0.46  0.24  0.5  0.0  0.48  0.22\n",
      "0    1\n",
      "1    1\n",
      "2    1\n",
      "3    1\n",
      "4    1\n",
      "Name: 8, dtype: int64\n"
     ]
    }
   ],
   "source": [
    "print(x.head())\n",
    "print(y.head())"
   ]
  },
  {
   "cell_type": "code",
   "execution_count": 38,
   "id": "54f60775-39b5-427a-aa46-f5760b3e9dd3",
   "metadata": {},
   "outputs": [
    {
     "name": "stdout",
     "output_type": "stream",
     "text": [
      "Training set shape: (456, 8), Testing set shape: (196, 8)\n"
     ]
    }
   ],
   "source": [
    "# Split training data for testing\n",
    "x_train, x_test, y_train, y_test = train_test_split(x, y, test_size=0.30, random_state=1234)\n",
    "print(f\"Training set shape: {x_train.shape}, Testing set shape: {x_test.shape}\")\n"
   ]
  },
  {
   "cell_type": "code",
   "execution_count": 40,
   "id": "ecadc056-f2b7-486f-823e-329465948c50",
   "metadata": {},
   "outputs": [],
   "source": [
    "# Scale the data\n",
    "scaler = StandardScaler()\n",
    "x_train = scaler.fit_transform(x_train)\n",
    "x_test = scaler.transform(x_test)"
   ]
  },
  {
   "cell_type": "code",
   "execution_count": 44,
   "id": "c5caacaa-7820-4ccb-997f-07d98ef0271b",
   "metadata": {},
   "outputs": [
    {
     "name": "stdout",
     "output_type": "stream",
     "text": [
      "Model performance for Training set using KNN\n",
      "- Accuracy: 0.9714912280701754\n",
      "- MCC: 0.8444046129070806\n",
      "- F1 score: 0.9713553597254786\n",
      "----------------------------------\n",
      "Model performance for Testing set using KNN\n",
      "- Accuracy: 0.9591836734693877\n",
      "- MCC: 0.7295625578825219\n",
      "- F1 score: 0.9580215419501134\n"
     ]
    }
   ],
   "source": [
    "# KNeighborsClassifier\n",
    "from sklearn.neighbors import KNeighborsClassifier\n",
    "knn = KNeighborsClassifier(n_neighbors=5)\n",
    "knn.fit(x_train, y_train)\n",
    "\n",
    "# Make predictions on the training and testing sets\n",
    "y_train_pred = knn.predict(x_train)\n",
    "y_test_pred = knn.predict(x_test)\n",
    "\n",
    "# Training set performance\n",
    "knn_train_accuracy = accuracy_score(y_train, y_train_pred)\n",
    "knn_train_mcc = matthews_corrcoef(y_train, y_train_pred)\n",
    "knn_train_f1 = f1_score(y_train, y_train_pred, average='weighted')\n",
    "\n",
    "# Testing set performance\n",
    "knn_test_accuracy = accuracy_score(y_test, y_test_pred)\n",
    "knn_test_mcc = matthews_corrcoef(y_test, y_test_pred)\n",
    "knn_test_f1 = f1_score(y_test, y_test_pred, average='weighted')\n",
    "\n",
    "print('Model performance for Training set using KNN')\n",
    "print('- Accuracy: %s' % knn_train_accuracy)\n",
    "print('- MCC: %s' % knn_train_mcc)\n",
    "print('- F1 score: %s' % knn_train_f1)\n",
    "print('----------------------------------')\n",
    "print('Model performance for Testing set using KNN')\n",
    "print('- Accuracy: %s' % knn_test_accuracy)\n",
    "print('- MCC: %s' % knn_test_mcc)\n",
    "print('- F1 score: %s' % knn_test_f1)\n",
    "\n",
    "# Make predictions on the test dataset\n",
    "y_test_pred = knn.predict(x_test)\n",
    "\n",
    "# Save predictions to \"prediction.txt\"\n",
    "pd.DataFrame(y_test_pred, columns=[\"Predicted\"]).to_csv(\"prediction_KNN.txt\", header=False, index=False)"
   ]
  },
  {
   "cell_type": "markdown",
   "id": "9bdbaf9b-7901-408d-ba93-aa500e9bcbd2",
   "metadata": {},
   "source": [
    "### Briefly describe your approach in the following cell."
   ]
  },
  {
   "cell_type": "code",
   "execution_count": 52,
   "id": "a2d280c1-e84c-478a-877d-615a668cec88",
   "metadata": {},
   "outputs": [
    {
     "name": "stdout",
     "output_type": "stream",
     "text": [
      "Model performance for Training Set Using Random Forest\n",
      "- Accuracy: 1.0\n",
      "- MCC: 1.0\n",
      "- F1 score: 1.0\n",
      "----------------------------------\n",
      "Model performance for Testing set Using Random Forest\n",
      "- Accuracy: 0.9540816326530612\n",
      "- MCC: 0.6888075754761026\n",
      "- F1 score: 0.9520505727087547\n"
     ]
    }
   ],
   "source": [
    "# RandomForestClassifier\n",
    "from sklearn.ensemble import RandomForestClassifier\n",
    "rf = RandomForestClassifier(random_state=1234)\n",
    "rf.fit(x_train, y_train)\n",
    "\n",
    "# Make predictions on the training and training sets\n",
    "y_train_pred = rf.predict(x_train)\n",
    "y_test_pred = rf.predict(x_test)\n",
    "\n",
    "# Training set performance\n",
    "rf_train_accuracy = accuracy_score(y_train, y_train_pred)\n",
    "rf_train_mcc = matthews_corrcoef(y_train, y_train_pred)\n",
    "rf_train_f1 = f1_score(y_train, y_train_pred, average='weighted')\n",
    "\n",
    "# Test set performance\n",
    "rf_test_accuracy = accuracy_score(y_test, y_test_pred)\n",
    "rf_test_mcc = matthews_corrcoef(y_test, y_test_pred)\n",
    "rf_test_f1 = f1_score(y_test, y_test_pred, average='weighted')\n",
    "\n",
    "print('Model performance for Training Set Using Random Forest')\n",
    "print('- Accuracy: %s' % rf_train_accuracy)\n",
    "print('- MCC: %s' % rf_train_mcc)\n",
    "print('- F1 score: %s' % rf_train_f1)\n",
    "print('----------------------------------')\n",
    "print('Model performance for Testing set Using Random Forest')\n",
    "print('- Accuracy: %s' % rf_test_accuracy)\n",
    "print('- MCC: %s' % rf_test_mcc)\n",
    "print('- F1 score: %s' % rf_test_f1)\n",
    "\n",
    "# Make predictions on the test dataset\n",
    "y_test_pred = rf.predict(x_test)\n",
    "\n",
    "# Save predictions to \"prediction.txt\"\n",
    "pd.DataFrame(y_test_pred, columns=[\"Predicted\"]).to_csv(\"prediction_RF.txt\", header=False, index=False)"
   ]
  },
  {
   "cell_type": "code",
   "execution_count": null,
   "id": "d9c04379-4ce1-4dbd-a55c-01d0c12480d5",
   "metadata": {},
   "outputs": [],
   "source": [
    "# Import all the essential libraries\n",
    "import pandas as pd\n",
    "import seaborn as sns\n",
    "from matplotlib import pyplot as plt\n",
    "from sklearn.model_selection import train_test_split\n",
    "from sklearn.preprocessing import StandardScaler\n",
    "from sklearn.metrics import accuracy_score, matthews_corrcoef, f1_score\n",
    "from sklearn.feature_selection import SelectKBest, f_classif\n",
    "\n",
    "# Load the datasets\n",
    "train_data = pd.read_csv('A2_data/train.csv',sep=',',index_col=0) \n",
    "\n",
    "\n",
    "# Separate features and labels\n",
    "x = train_data.iloc[:, :-1]\n",
    "y = train_data.iloc[:, -1]\n",
    "\n",
    "# Print the values of x and y\n",
    "print(x.head())\n",
    "print(y.head())\n",
    "\n",
    "# Split training data for testing\n",
    "x_train, x_test, y_train, y_test = train_test_split(x, y, test_size=0.20, random_state=1234)\n",
    "print(f\"Training set shape: {x_train.shape}, Testing set shape: {x_test.shape}\")\n",
    "\n",
    "# Scale the data\n",
    "scaler = StandardScaler()\n",
    "x_train = scaler.fit_transform(x_train)\n",
    "x_test = scaler.transform(x_test)\n",
    "\n",
    "# Count number of 0s and 1s in training and testing labels\n",
    "train_label_counts = y_train.value_counts()\n",
    "test_label_counts = y_test.value_counts()\n",
    "print(\"Counts of labels in the Training set:\")\n",
    "print(train_label_counts)\n",
    "print(\"Counts of labels in the Testing set:\")\n",
    "print(test_label_counts)\n",
    "\n",
    "# KNeighborsClassifier (KNN)\n",
    "from sklearn.neighbors import KNeighborsClassifier\n",
    "knn = KNeighborsClassifier(n_neighbors=5)\n",
    "knn.fit(x_train, y_train)\n",
    "\n",
    "# Make predictions on the training and testing sets\n",
    "y_train_pred = knn.predict(x_train)\n",
    "y_test_pred = knn.predict(x_test)\n",
    "\n",
    "# Training set performance\n",
    "knn_train_accuracy = accuracy_score(y_train, y_train_pred)\n",
    "knn_train_mcc = matthews_corrcoef(y_train, y_train_pred)\n",
    "knn_train_f1 = f1_score(y_train, y_train_pred, average='weighted')\n",
    "\n",
    "# Testing set performance\n",
    "knn_test_accuracy = accuracy_score(y_test, y_test_pred)\n",
    "knn_test_mcc = matthews_corrcoef(y_test, y_test_pred)\n",
    "knn_test_f1 = f1_score(y_test, y_test_pred, average='weighted')\n",
    "\n",
    "print('Model performance for Training set using KNN')\n",
    "print('- Accuracy: %s' % knn_train_accuracy)\n",
    "print('- MCC: %s' % knn_train_mcc)\n",
    "print('- F1 score: %s' % knn_train_f1)\n",
    "print('----------------------------------')\n",
    "print('Model performance for Testing set using KNN')\n",
    "print('- Accuracy: %s' % knn_test_accuracy)\n",
    "print('- MCC: %s' % knn_test_mcc)\n",
    "print('- F1 score: %s' % knn_test_f1)\n",
    "\n",
    "\n",
    "# Scale the test dataset and make predictions\n",
    "\n",
    "#x_test_scaled = scaler.transform(test_data)\n",
    "#y_test_pred = knn.predict(x_test_scaled)\n",
    "# Save predictions to \"prediction_K1.txt\"\n",
    "#pd.DataFrame(y_test_pred, columns=[\"Predicted\"]).to_csv(\"prediction_K1.txt\", header=False, index=False)\n",
    "#print(\"Predictions saved to prediction_K1.txt\")"
   ]
  },
  {
   "cell_type": "code",
   "execution_count": null,
   "id": "3d47fbcb-beea-4903-9fe3-bdd56795ae02",
   "metadata": {},
   "outputs": [],
   "source": [
    "from sklearn.ensemble import RandomForestClassifier\n",
    "from sklearn.model_selection import RandomizedSearchCV\n",
    "from sklearn.metrics import f1_score\n",
    "from sklearn.preprocessing import RobustScaler\n",
    "from sklearn.model_selection import train_test_split\n",
    "import numpy as np\n",
    "\n",
    "# Separate features and labels\n",
    "\n",
    "# Split the data into train and test sets\n",
    "X_train, X_test, y_train, y_test = train_test_split(features, class_labels, test_size=0.2, random_state=42)\n",
    "\n",
    "# Scale the features\n",
    "scaler = RobustScaler()\n",
    "X_train_scaled = scaler.fit_transform(X_train)\n",
    "X_test_scaled = scaler.transform(X_test)\n",
    "\n",
    "# Define parameter grid for Random Forest\n",
    "param_grid = {\n",
    "    'n_estimators': [50, 100, 200, 300],\n",
    "    'max_depth': [None, 10, 20, 30],\n",
    "    'min_samples_split': [2, 5, 10],\n",
    "    'min_samples_leaf': [1, 2, 4],\n",
    "    'max_features': ['sqrt', 'log2']\n",
    "}\n",
    "\n",
    "# Initialize Random Forest with balanced class weights\n",
    "model_rf = RandomForestClassifier(class_weight='balanced', random_state=42)\n",
    "\n",
    "# Set up RandomizedSearchCV\n",
    "random_search = RandomizedSearchCV(model_rf, param_grid, n_iter=20, cv=5, scoring='f1_weighted', random_state=42)\n",
    "\n",
    "# Fit the model with the training data\n",
    "random_search.fit(X_train_scaled, y_train)\n",
    "\n",
    "# Get the best model\n",
    "best_rf = random_search.best_estimator_\n",
    "\n",
    "# Predict on the test data\n",
    "y_pred = best_rf.predict(X_test_scaled)\n",
    "\n",
    "# Calculate F1-score\n",
    "f1 = f1_score(y_test, y_pred, average='weighted')\n",
    "print(\"Optimized F1-score:\", f1)"
   ]
  }
 ],
 "metadata": {
  "kernelspec": {
   "display_name": "Python 3 (ipykernel)",
   "language": "python",
   "name": "python3"
  },
  "language_info": {
   "codemirror_mode": {
    "name": "ipython",
    "version": 3
   },
   "file_extension": ".py",
   "mimetype": "text/x-python",
   "name": "python",
   "nbconvert_exporter": "python",
   "pygments_lexer": "ipython3",
   "version": "3.12.4"
  }
 },
 "nbformat": 4,
 "nbformat_minor": 5
}
